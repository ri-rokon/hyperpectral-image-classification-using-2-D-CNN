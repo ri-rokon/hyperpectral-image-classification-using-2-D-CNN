{
 "cells": [
  {
   "cell_type": "code",
   "execution_count": 1,
   "metadata": {},
   "outputs": [
    {
     "name": "stderr",
     "output_type": "stream",
     "text": [
      "C:\\Users\\slowg\\Anaconda3\\lib\\site-packages\\h5py\\__init__.py:36: FutureWarning: Conversion of the second argument of issubdtype from `float` to `np.floating` is deprecated. In future, it will be treated as `np.float64 == np.dtype(float).type`.\n",
      "  from ._conv import register_converters as _register_converters\n",
      "Using TensorFlow backend.\n"
     ]
    }
   ],
   "source": [
    "import numpy as np\n",
    "import scipy\n",
    "import os\n",
    "import pandas as pd\n",
    "import matplotlib.pyplot as plt\n",
    "from keras.models import Sequential\n",
    "from keras.layers import Dense, Dropout, Flatten\n",
    "from keras.layers import Conv2D, Conv3D, MaxPooling2D\n",
    "from keras.optimizers import SGD\n",
    "from keras import backend as K\n",
    "from keras.utils import np_utils\n",
    "from keras.layers import Dropout, Input\n",
    "from sklearn.model_selection import train_test_split\n",
    "from keras.optimizers import Adam"
   ]
  },
  {
   "cell_type": "code",
   "execution_count": 2,
   "metadata": {},
   "outputs": [
    {
     "name": "stdout",
     "output_type": "stream",
     "text": [
      "(21025, 201)\n"
     ]
    }
   ],
   "source": [
    "dataset = pd.read_csv(r'C:\\Users\\slowg\\Desktop\\Datasetm\\Complete_Data.csv')\n",
    "print(dataset.shape)"
   ]
  },
  {
   "cell_type": "code",
   "execution_count": 3,
   "metadata": {},
   "outputs": [
    {
     "name": "stdout",
     "output_type": "stream",
     "text": [
      "[[3172 4142 4506 ... 1057 1020 1020]\n",
      " [2580 4266 4502 ... 1064 1029 1020]\n",
      " [3687 4266 4421 ... 1061 1030 1016]\n",
      " ...\n",
      " [3153 3864 4282 ... 1003 1008 1000]\n",
      " [3155 4104 4106 ... 1011 1005 1003]\n",
      " [3323 3860 4197 ... 1007 1004 1000]]\n",
      "(21025, 200)\n",
      "[3 3 3 ... 0 0 0]\n",
      "(21025,)\n",
      "(21025,)\n"
     ]
    }
   ],
   "source": [
    "m,n = dataset.shape\n",
    "X = dataset.iloc[:,0:n-1].values\n",
    "y = dataset.iloc[:,-1].values\n",
    "print(X)\n",
    "print(X.shape)\n",
    "print(y)\n",
    "print(y.shape)\n",
    "\n",
    "pixels = X\n",
    "gt = np.transpose(y)\n",
    "print(gt.shape)"
   ]
  },
  {
   "cell_type": "code",
   "execution_count": 4,
   "metadata": {},
   "outputs": [
    {
     "name": "stdout",
     "output_type": "stream",
     "text": [
      "(145, 145, 200)\n"
     ]
    }
   ],
   "source": [
    "X = X.reshape(145,145,200)\n",
    "print(X.shape)"
   ]
  },
  {
   "cell_type": "code",
   "execution_count": 5,
   "metadata": {},
   "outputs": [],
   "source": [
    "y = y.reshape(145,145)"
   ]
  },
  {
   "cell_type": "code",
   "execution_count": 6,
   "metadata": {},
   "outputs": [],
   "source": [
    "def splitTrainTestSet(X, y, testRatio, randomState=345):\n",
    "    X_train, X_test, y_train, y_test = train_test_split(X, y, test_size=testRatio, random_state=randomState,stratify=y)\n",
    "    return X_train, X_test, y_train, y_test"
   ]
  },
  {
   "cell_type": "code",
   "execution_count": 7,
   "metadata": {},
   "outputs": [],
   "source": [
    "def applyPCA(X, numComponents=75):\n",
    "    newX = np.reshape(X, (-1, X.shape[2]))\n",
    "    pca = PCA(n_components=numComponents, whiten=True)\n",
    "    newX = pca.fit_transform(newX)\n",
    "    newX = np.reshape(newX, (X.shape[0],X.shape[1], numComponents))\n",
    "    return newX, pca"
   ]
  },
  {
   "cell_type": "code",
   "execution_count": 8,
   "metadata": {},
   "outputs": [],
   "source": [
    "def padWithZeros(X, margin=2):\n",
    "    newX = np.zeros((X.shape[0] + 2 * margin, X.shape[1] + 2* margin, X.shape[2]))\n",
    "    x_offset = margin\n",
    "    y_offset = margin\n",
    "    newX[x_offset:X.shape[0] + x_offset, y_offset:X.shape[1] + y_offset, :] = X\n",
    "    return newX"
   ]
  },
  {
   "cell_type": "code",
   "execution_count": 9,
   "metadata": {},
   "outputs": [],
   "source": [
    "def createImageCubes(X, y, windowSize=5, removeZeroLabels = True):\n",
    "    margin = int((windowSize - 1) / 2)\n",
    "    zeroPaddedX = padWithZeros(X, margin=margin)\n",
    "    # split patches\n",
    "    patchesData = np.zeros((X.shape[0] * X.shape[1], windowSize, windowSize, X.shape[2]))\n",
    "    patchesLabels = np.zeros((X.shape[0] * X.shape[1]))\n",
    "    patchIndex = 0\n",
    "    for r in range(margin, zeroPaddedX.shape[0] - margin):\n",
    "        for c in range(margin, zeroPaddedX.shape[1] - margin):\n",
    "            patch = zeroPaddedX[r - margin:r + margin + 1, c - margin:c + margin + 1]   \n",
    "            if c==2:\n",
    "                print(\"Patch shape:\",patch.shape)\n",
    "            patchesData[patchIndex, :, :, :] = patch\n",
    "            if c==2:\n",
    "                print(\"PD:shape \",patchesData.shape)\n",
    "            patchesLabels[patchIndex] = y[r-margin, c-margin]\n",
    "            patchIndex = patchIndex + 1\n",
    "    #if removeZeroLabels:\n",
    "     #   patchesData = patchesData[patchesLabels>0,:,:,:]\n",
    "      #  patchesLabels = patchesLabels[patchesLabels>0]\n",
    "       # patchesLabels -= 1\n",
    "    return patchesData, patchesLabels"
   ]
  },
  {
   "cell_type": "code",
   "execution_count": 10,
   "metadata": {},
   "outputs": [
    {
     "data": {
      "text/plain": [
       "(145, 145, 30)"
      ]
     },
     "execution_count": 10,
     "metadata": {},
     "output_type": "execute_result"
    }
   ],
   "source": [
    "k = 30\n",
    "from sklearn.decomposition import PCA\n",
    "X,pca = applyPCA(X,numComponents=k)\n",
    "\n",
    "X.shape"
   ]
  },
  {
   "cell_type": "code",
   "execution_count": 11,
   "metadata": {},
   "outputs": [],
   "source": [
    "windowSize = 5\n",
    "numPCAcomponents = 30\n",
    "testRatio = 0.30"
   ]
  },
  {
   "cell_type": "code",
   "execution_count": 12,
   "metadata": {},
   "outputs": [
    {
     "name": "stdout",
     "output_type": "stream",
     "text": [
      "Patch shape: (5, 5, 30)\n",
      "PD:shape  (21025, 5, 5, 30)\n",
      "Patch shape: (5, 5, 30)\n",
      "PD:shape  (21025, 5, 5, 30)\n",
      "Patch shape: (5, 5, 30)\n",
      "PD:shape  (21025, 5, 5, 30)\n",
      "Patch shape: (5, 5, 30)\n",
      "PD:shape  (21025, 5, 5, 30)\n",
      "Patch shape: (5, 5, 30)\n",
      "PD:shape  (21025, 5, 5, 30)\n",
      "Patch shape: (5, 5, 30)\n",
      "PD:shape  (21025, 5, 5, 30)\n",
      "Patch shape: (5, 5, 30)\n",
      "PD:shape  (21025, 5, 5, 30)\n",
      "Patch shape: (5, 5, 30)\n",
      "PD:shape  (21025, 5, 5, 30)\n",
      "Patch shape: (5, 5, 30)\n",
      "PD:shape  (21025, 5, 5, 30)\n",
      "Patch shape: (5, 5, 30)\n",
      "PD:shape  (21025, 5, 5, 30)\n",
      "Patch shape: (5, 5, 30)\n",
      "PD:shape  (21025, 5, 5, 30)\n",
      "Patch shape: (5, 5, 30)\n",
      "PD:shape  (21025, 5, 5, 30)\n",
      "Patch shape: (5, 5, 30)\n",
      "PD:shape  (21025, 5, 5, 30)\n",
      "Patch shape: (5, 5, 30)\n",
      "PD:shape  (21025, 5, 5, 30)\n",
      "Patch shape: (5, 5, 30)\n",
      "PD:shape  (21025, 5, 5, 30)\n",
      "Patch shape: (5, 5, 30)\n",
      "PD:shape  (21025, 5, 5, 30)\n",
      "Patch shape: (5, 5, 30)\n",
      "PD:shape  (21025, 5, 5, 30)\n",
      "Patch shape: (5, 5, 30)\n",
      "PD:shape  (21025, 5, 5, 30)\n",
      "Patch shape: (5, 5, 30)\n",
      "PD:shape  (21025, 5, 5, 30)\n",
      "Patch shape: (5, 5, 30)\n",
      "PD:shape  (21025, 5, 5, 30)\n",
      "Patch shape: (5, 5, 30)\n",
      "PD:shape  (21025, 5, 5, 30)\n",
      "Patch shape: (5, 5, 30)\n",
      "PD:shape  (21025, 5, 5, 30)\n",
      "Patch shape: (5, 5, 30)\n",
      "PD:shape  (21025, 5, 5, 30)\n",
      "Patch shape: (5, 5, 30)\n",
      "PD:shape  (21025, 5, 5, 30)\n",
      "Patch shape: (5, 5, 30)\n",
      "PD:shape  (21025, 5, 5, 30)\n",
      "Patch shape: (5, 5, 30)\n",
      "PD:shape  (21025, 5, 5, 30)\n",
      "Patch shape: (5, 5, 30)\n",
      "PD:shape  (21025, 5, 5, 30)\n",
      "Patch shape: (5, 5, 30)\n",
      "PD:shape  (21025, 5, 5, 30)\n",
      "Patch shape: (5, 5, 30)\n",
      "PD:shape  (21025, 5, 5, 30)\n",
      "Patch shape: (5, 5, 30)\n",
      "PD:shape  (21025, 5, 5, 30)\n",
      "Patch shape: (5, 5, 30)\n",
      "PD:shape  (21025, 5, 5, 30)\n",
      "Patch shape: (5, 5, 30)\n",
      "PD:shape  (21025, 5, 5, 30)\n",
      "Patch shape: (5, 5, 30)\n",
      "PD:shape  (21025, 5, 5, 30)\n",
      "Patch shape: (5, 5, 30)\n",
      "PD:shape  (21025, 5, 5, 30)\n",
      "Patch shape: (5, 5, 30)\n",
      "PD:shape  (21025, 5, 5, 30)\n",
      "Patch shape: (5, 5, 30)\n",
      "PD:shape  (21025, 5, 5, 30)\n",
      "Patch shape: (5, 5, 30)\n",
      "PD:shape  (21025, 5, 5, 30)\n",
      "Patch shape: (5, 5, 30)\n",
      "PD:shape  (21025, 5, 5, 30)\n",
      "Patch shape: (5, 5, 30)\n",
      "PD:shape  (21025, 5, 5, 30)\n",
      "Patch shape: (5, 5, 30)\n",
      "PD:shape  (21025, 5, 5, 30)\n",
      "Patch shape: (5, 5, 30)\n",
      "PD:shape  (21025, 5, 5, 30)\n",
      "Patch shape: (5, 5, 30)\n",
      "PD:shape  (21025, 5, 5, 30)\n",
      "Patch shape: (5, 5, 30)\n",
      "PD:shape  (21025, 5, 5, 30)\n",
      "Patch shape: (5, 5, 30)\n",
      "PD:shape  (21025, 5, 5, 30)\n",
      "Patch shape: (5, 5, 30)\n",
      "PD:shape  (21025, 5, 5, 30)\n",
      "Patch shape: (5, 5, 30)\n",
      "PD:shape  (21025, 5, 5, 30)\n",
      "Patch shape: (5, 5, 30)\n",
      "PD:shape  (21025, 5, 5, 30)\n",
      "Patch shape: (5, 5, 30)\n",
      "PD:shape  (21025, 5, 5, 30)\n",
      "Patch shape: (5, 5, 30)\n",
      "PD:shape  (21025, 5, 5, 30)\n",
      "Patch shape: (5, 5, 30)\n",
      "PD:shape  (21025, 5, 5, 30)\n",
      "Patch shape: (5, 5, 30)\n",
      "PD:shape  (21025, 5, 5, 30)\n",
      "Patch shape: (5, 5, 30)\n",
      "PD:shape  (21025, 5, 5, 30)\n",
      "Patch shape: (5, 5, 30)\n",
      "PD:shape  (21025, 5, 5, 30)\n",
      "Patch shape: (5, 5, 30)\n",
      "PD:shape  (21025, 5, 5, 30)\n",
      "Patch shape: (5, 5, 30)\n",
      "PD:shape  (21025, 5, 5, 30)\n",
      "Patch shape: (5, 5, 30)\n",
      "PD:shape  (21025, 5, 5, 30)\n",
      "Patch shape: (5, 5, 30)\n",
      "PD:shape  (21025, 5, 5, 30)\n",
      "Patch shape: (5, 5, 30)\n",
      "PD:shape  (21025, 5, 5, 30)\n",
      "Patch shape: (5, 5, 30)\n",
      "PD:shape  (21025, 5, 5, 30)\n",
      "Patch shape: (5, 5, 30)\n",
      "PD:shape  (21025, 5, 5, 30)\n",
      "Patch shape: (5, 5, 30)\n",
      "PD:shape  (21025, 5, 5, 30)\n",
      "Patch shape: (5, 5, 30)\n",
      "PD:shape  (21025, 5, 5, 30)\n",
      "Patch shape: (5, 5, 30)\n",
      "PD:shape  (21025, 5, 5, 30)\n",
      "Patch shape: (5, 5, 30)\n",
      "PD:shape  (21025, 5, 5, 30)\n",
      "Patch shape: (5, 5, 30)\n",
      "PD:shape  (21025, 5, 5, 30)\n",
      "Patch shape: (5, 5, 30)\n",
      "PD:shape  (21025, 5, 5, 30)\n",
      "Patch shape: (5, 5, 30)\n",
      "PD:shape  (21025, 5, 5, 30)\n",
      "Patch shape: (5, 5, 30)\n",
      "PD:shape  (21025, 5, 5, 30)\n",
      "Patch shape: (5, 5, 30)\n",
      "PD:shape  (21025, 5, 5, 30)\n",
      "Patch shape: (5, 5, 30)\n",
      "PD:shape  (21025, 5, 5, 30)\n",
      "Patch shape: (5, 5, 30)\n",
      "PD:shape  (21025, 5, 5, 30)\n",
      "Patch shape: (5, 5, 30)\n",
      "PD:shape  (21025, 5, 5, 30)\n",
      "Patch shape: (5, 5, 30)\n",
      "PD:shape  (21025, 5, 5, 30)\n",
      "Patch shape: (5, 5, 30)\n",
      "PD:shape  (21025, 5, 5, 30)\n",
      "Patch shape: (5, 5, 30)\n",
      "PD:shape  (21025, 5, 5, 30)\n",
      "Patch shape: (5, 5, 30)\n",
      "PD:shape  (21025, 5, 5, 30)\n",
      "Patch shape: (5, 5, 30)\n",
      "PD:shape  (21025, 5, 5, 30)\n",
      "Patch shape: (5, 5, 30)\n",
      "PD:shape  (21025, 5, 5, 30)\n",
      "Patch shape: (5, 5, 30)\n",
      "PD:shape  (21025, 5, 5, 30)\n",
      "Patch shape: (5, 5, 30)\n",
      "PD:shape  (21025, 5, 5, 30)\n",
      "Patch shape: (5, 5, 30)\n",
      "PD:shape  (21025, 5, 5, 30)\n",
      "Patch shape: (5, 5, 30)\n",
      "PD:shape  (21025, 5, 5, 30)\n",
      "Patch shape: (5, 5, 30)\n",
      "PD:shape  (21025, 5, 5, 30)\n",
      "Patch shape: (5, 5, 30)\n",
      "PD:shape  (21025, 5, 5, 30)\n",
      "Patch shape: (5, 5, 30)\n",
      "PD:shape  (21025, 5, 5, 30)\n",
      "Patch shape: (5, 5, 30)\n",
      "PD:shape  (21025, 5, 5, 30)\n",
      "Patch shape: (5, 5, 30)\n",
      "PD:shape  (21025, 5, 5, 30)\n",
      "Patch shape: (5, 5, 30)\n",
      "PD:shape  (21025, 5, 5, 30)\n",
      "Patch shape: (5, 5, 30)\n",
      "PD:shape  (21025, 5, 5, 30)\n",
      "Patch shape: (5, 5, 30)\n",
      "PD:shape  (21025, 5, 5, 30)\n",
      "Patch shape: (5, 5, 30)\n",
      "PD:shape  (21025, 5, 5, 30)\n",
      "Patch shape: (5, 5, 30)\n",
      "PD:shape  (21025, 5, 5, 30)\n",
      "Patch shape: (5, 5, 30)\n",
      "PD:shape  (21025, 5, 5, 30)\n",
      "Patch shape: (5, 5, 30)\n",
      "PD:shape  (21025, 5, 5, 30)\n",
      "Patch shape: (5, 5, 30)\n",
      "PD:shape  (21025, 5, 5, 30)\n",
      "Patch shape: (5, 5, 30)\n",
      "PD:shape  (21025, 5, 5, 30)\n",
      "Patch shape: (5, 5, 30)\n",
      "PD:shape  (21025, 5, 5, 30)\n",
      "Patch shape: (5, 5, 30)\n",
      "PD:shape  (21025, 5, 5, 30)\n",
      "Patch shape: (5, 5, 30)\n",
      "PD:shape  (21025, 5, 5, 30)\n",
      "Patch shape: (5, 5, 30)\n",
      "PD:shape  (21025, 5, 5, 30)\n",
      "Patch shape: (5, 5, 30)\n",
      "PD:shape  (21025, 5, 5, 30)\n",
      "Patch shape: (5, 5, 30)\n",
      "PD:shape  (21025, 5, 5, 30)\n",
      "Patch shape: (5, 5, 30)\n",
      "PD:shape  (21025, 5, 5, 30)\n",
      "Patch shape: (5, 5, 30)\n",
      "PD:shape  (21025, 5, 5, 30)\n",
      "Patch shape: (5, 5, 30)\n",
      "PD:shape  (21025, 5, 5, 30)\n",
      "Patch shape: (5, 5, 30)\n",
      "PD:shape  (21025, 5, 5, 30)\n",
      "Patch shape: (5, 5, 30)\n",
      "PD:shape  (21025, 5, 5, 30)\n",
      "Patch shape: (5, 5, 30)\n",
      "PD:shape  (21025, 5, 5, 30)\n",
      "Patch shape: (5, 5, 30)\n",
      "PD:shape  (21025, 5, 5, 30)\n",
      "Patch shape: (5, 5, 30)\n",
      "PD:shape  (21025, 5, 5, 30)\n",
      "Patch shape: (5, 5, 30)\n",
      "PD:shape  (21025, 5, 5, 30)\n",
      "Patch shape: (5, 5, 30)\n",
      "PD:shape  (21025, 5, 5, 30)\n",
      "Patch shape: (5, 5, 30)\n",
      "PD:shape  (21025, 5, 5, 30)\n",
      "Patch shape: (5, 5, 30)\n",
      "PD:shape  (21025, 5, 5, 30)\n",
      "Patch shape: (5, 5, 30)\n",
      "PD:shape  (21025, 5, 5, 30)\n",
      "Patch shape: (5, 5, 30)\n",
      "PD:shape  (21025, 5, 5, 30)\n",
      "Patch shape: (5, 5, 30)\n",
      "PD:shape  (21025, 5, 5, 30)\n",
      "Patch shape: (5, 5, 30)\n",
      "PD:shape  (21025, 5, 5, 30)\n",
      "Patch shape: (5, 5, 30)\n",
      "PD:shape  (21025, 5, 5, 30)\n",
      "Patch shape: (5, 5, 30)\n",
      "PD:shape  (21025, 5, 5, 30)\n",
      "Patch shape: (5, 5, 30)\n",
      "PD:shape  (21025, 5, 5, 30)\n",
      "Patch shape: (5, 5, 30)\n",
      "PD:shape  (21025, 5, 5, 30)\n",
      "Patch shape: (5, 5, 30)\n",
      "PD:shape  (21025, 5, 5, 30)\n",
      "Patch shape: (5, 5, 30)\n",
      "PD:shape  (21025, 5, 5, 30)\n",
      "Patch shape: (5, 5, 30)\n",
      "PD:shape  (21025, 5, 5, 30)\n",
      "Patch shape: (5, 5, 30)\n",
      "PD:shape  (21025, 5, 5, 30)\n",
      "Patch shape: (5, 5, 30)\n",
      "PD:shape  (21025, 5, 5, 30)\n",
      "Patch shape: (5, 5, 30)\n",
      "PD:shape  (21025, 5, 5, 30)\n",
      "Patch shape: (5, 5, 30)\n",
      "PD:shape  (21025, 5, 5, 30)\n",
      "Patch shape: (5, 5, 30)\n",
      "PD:shape  (21025, 5, 5, 30)\n",
      "Patch shape: (5, 5, 30)\n",
      "PD:shape  (21025, 5, 5, 30)\n",
      "Patch shape: (5, 5, 30)\n",
      "PD:shape  (21025, 5, 5, 30)\n",
      "Patch shape: (5, 5, 30)\n",
      "PD:shape  (21025, 5, 5, 30)\n",
      "Patch shape: (5, 5, 30)\n",
      "PD:shape  (21025, 5, 5, 30)\n",
      "Patch shape: (5, 5, 30)\n",
      "PD:shape  (21025, 5, 5, 30)\n",
      "Patch shape: (5, 5, 30)\n",
      "PD:shape  (21025, 5, 5, 30)\n",
      "Patch shape: (5, 5, 30)\n",
      "PD:shape  (21025, 5, 5, 30)\n",
      "Patch shape: (5, 5, 30)\n",
      "PD:shape  (21025, 5, 5, 30)\n",
      "Patch shape: (5, 5, 30)\n",
      "PD:shape  (21025, 5, 5, 30)\n",
      "Patch shape: (5, 5, 30)\n",
      "PD:shape  (21025, 5, 5, 30)\n",
      "Patch shape: (5, 5, 30)\n",
      "PD:shape  (21025, 5, 5, 30)\n",
      "Patch shape: (5, 5, 30)\n",
      "PD:shape  (21025, 5, 5, 30)\n",
      "Patch shape: (5, 5, 30)\n",
      "PD:shape  (21025, 5, 5, 30)\n",
      "Patch shape: (5, 5, 30)\n",
      "PD:shape  (21025, 5, 5, 30)\n",
      "Patch shape: (5, 5, 30)\n",
      "PD:shape  (21025, 5, 5, 30)\n"
     ]
    }
   ],
   "source": [
    "\n",
    "X, y = createImageCubes(X, y, windowSize=windowSize)\n",
    "\n"
   ]
  },
  {
   "cell_type": "code",
   "execution_count": 13,
   "metadata": {},
   "outputs": [
    {
     "data": {
      "text/plain": [
       "((14717, 5, 5, 30), (6308, 5, 5, 30), (14717,), (6308,))"
      ]
     },
     "execution_count": 13,
     "metadata": {},
     "output_type": "execute_result"
    }
   ],
   "source": [
    "Xtrain, Xtest, ytrain, ytest = splitTrainTestSet(X, y, testRatio)\n",
    "\n",
    "Xtrain.shape, Xtest.shape, ytrain.shape, ytest.shape"
   ]
  },
  {
   "cell_type": "code",
   "execution_count": 14,
   "metadata": {},
   "outputs": [
    {
     "data": {
      "text/plain": [
       "(14717, 5, 5, 30)"
      ]
     },
     "execution_count": 14,
     "metadata": {},
     "output_type": "execute_result"
    }
   ],
   "source": [
    "Xtrain = Xtrain.reshape(-1, windowSize, windowSize, k)\n",
    "Xtrain.shape"
   ]
  },
  {
   "cell_type": "code",
   "execution_count": 15,
   "metadata": {},
   "outputs": [
    {
     "name": "stdout",
     "output_type": "stream",
     "text": [
      "[10. 11.  0. ...  3. 11.  0.]\n"
     ]
    }
   ],
   "source": [
    "print(ytrain)"
   ]
  },
  {
   "cell_type": "code",
   "execution_count": 16,
   "metadata": {},
   "outputs": [
    {
     "name": "stdout",
     "output_type": "stream",
     "text": [
      "(14717, 17)\n",
      "(14717, 5, 5, 30)\n"
     ]
    }
   ],
   "source": [
    "ytrain = np_utils.to_categorical(ytrain)\n",
    "print(ytrain.shape)\n",
    "print(Xtrain.shape)"
   ]
  },
  {
   "cell_type": "code",
   "execution_count": 17,
   "metadata": {},
   "outputs": [
    {
     "name": "stdout",
     "output_type": "stream",
     "text": [
      "(5, 5, 30)\n"
     ]
    }
   ],
   "source": [
    "input_shape= Xtrain[0].shape\n",
    "print(input_shape)"
   ]
  },
  {
   "cell_type": "code",
   "execution_count": 18,
   "metadata": {},
   "outputs": [],
   "source": [
    "C1 = 3*numPCAcomponents"
   ]
  },
  {
   "cell_type": "code",
   "execution_count": 19,
   "metadata": {},
   "outputs": [
    {
     "name": "stdout",
     "output_type": "stream",
     "text": [
      "WARNING:tensorflow:From C:\\Users\\slowg\\Anaconda3\\lib\\site-packages\\tensorflow\\python\\framework\\op_def_library.py:263: colocate_with (from tensorflow.python.framework.ops) is deprecated and will be removed in a future version.\n",
      "Instructions for updating:\n",
      "Colocations handled automatically by placer.\n",
      "WARNING:tensorflow:From C:\\Users\\slowg\\Anaconda3\\lib\\site-packages\\keras\\backend\\tensorflow_backend.py:3445: calling dropout (from tensorflow.python.ops.nn_ops) with keep_prob is deprecated and will be removed in a future version.\n",
      "Instructions for updating:\n",
      "Please use `rate` instead of `keep_prob`. Rate should be set to `rate = 1 - keep_prob`.\n"
     ]
    }
   ],
   "source": [
    "model = Sequential()\n",
    "\n",
    "model.add(Conv2D(C1, (3, 3), activation='relu', input_shape=input_shape))\n",
    "\n",
    "model.add(Conv2D(3*C1, (3, 3), activation='relu'))\n",
    "model.add(Dropout(0.25))\n",
    "\n",
    "\n",
    "\n",
    "model.add(Flatten())\n",
    "model.add(Dense(6*numPCAcomponents, activation='relu'))\n",
    "model.add(Dropout(0.4))\n",
    "model.add(Dense(17, activation='softmax'))"
   ]
  },
  {
   "cell_type": "code",
   "execution_count": 20,
   "metadata": {},
   "outputs": [],
   "source": [
    "adam = Adam(lr=0.001, decay=1e-06)\n",
    "model.compile(loss='categorical_crossentropy', optimizer=adam, metrics=['accuracy'])"
   ]
  },
  {
   "cell_type": "code",
   "execution_count": 21,
   "metadata": {},
   "outputs": [
    {
     "name": "stdout",
     "output_type": "stream",
     "text": [
      "WARNING:tensorflow:From C:\\Users\\slowg\\Anaconda3\\lib\\site-packages\\tensorflow\\python\\ops\\math_ops.py:3066: to_int32 (from tensorflow.python.ops.math_ops) is deprecated and will be removed in a future version.\n",
      "Instructions for updating:\n",
      "Use tf.cast instead.\n",
      "Epoch 1/15\n",
      "14717/14717 [==============================] - 4s 260us/step - loss: 0.8828 - acc: 0.7165\n",
      "Epoch 2/15\n",
      "14717/14717 [==============================] - 3s 231us/step - loss: 0.4462 - acc: 0.8504\n",
      "Epoch 3/15\n",
      "14717/14717 [==============================] - 3s 234us/step - loss: 0.2983 - acc: 0.8964\n",
      "Epoch 4/15\n",
      "14717/14717 [==============================] - 3s 233us/step - loss: 0.2145 - acc: 0.9291\n",
      "Epoch 5/15\n",
      "14717/14717 [==============================] - 3s 233us/step - loss: 0.1628 - acc: 0.9467\n",
      "Epoch 6/15\n",
      "14717/14717 [==============================] - 3s 225us/step - loss: 0.1315 - acc: 0.9584\n",
      "Epoch 7/15\n",
      "14717/14717 [==============================] - 3s 224us/step - loss: 0.1255 - acc: 0.9619\n",
      "Epoch 8/15\n",
      "14717/14717 [==============================] - 3s 224us/step - loss: 0.0991 - acc: 0.9706\n",
      "Epoch 9/15\n",
      "14717/14717 [==============================] - 3s 224us/step - loss: 0.0911 - acc: 0.9721\n",
      "Epoch 10/15\n",
      "14717/14717 [==============================] - 3s 224us/step - loss: 0.0849 - acc: 0.9738\n",
      "Epoch 11/15\n",
      "14717/14717 [==============================] - 3s 234us/step - loss: 0.0701 - acc: 0.9789\n",
      "Epoch 12/15\n",
      "14717/14717 [==============================] - 3s 230us/step - loss: 0.0643 - acc: 0.9812\n",
      "Epoch 13/15\n",
      "14717/14717 [==============================] - 3s 221us/step - loss: 0.0598 - acc: 0.9823\n",
      "Epoch 14/15\n",
      "14717/14717 [==============================] - 3s 221us/step - loss: 0.0692 - acc: 0.9819\n",
      "Epoch 15/15\n",
      "14717/14717 [==============================] - 3s 233us/step - loss: 0.0683 - acc: 0.9811\n"
     ]
    },
    {
     "data": {
      "text/plain": [
       "<keras.callbacks.History at 0x1ef96c60828>"
      ]
     },
     "execution_count": 21,
     "metadata": {},
     "output_type": "execute_result"
    }
   ],
   "source": [
    " model.fit(Xtrain, ytrain, batch_size=32, epochs=15)"
   ]
  },
  {
   "cell_type": "code",
   "execution_count": 22,
   "metadata": {},
   "outputs": [
    {
     "name": "stdout",
     "output_type": "stream",
     "text": [
      "6308/6308 [==============================] - 0s 45us/step\n",
      "Test accuracy: 0.9376981610653139\n"
     ]
    }
   ],
   "source": [
    "saveytest=ytest\n",
    "ytest = np_utils.to_categorical(ytest)\n",
    "test_loss, test_acc = model.evaluate(Xtest, ytest)\n",
    "print('Test accuracy:', test_acc)"
   ]
  },
  {
   "cell_type": "code",
   "execution_count": 23,
   "metadata": {},
   "outputs": [
    {
     "name": "stdout",
     "output_type": "stream",
     "text": [
      "_________________________________________________________________\n",
      "Layer (type)                 Output Shape              Param #   \n",
      "=================================================================\n",
      "conv2d_1 (Conv2D)            (None, 3, 3, 90)          24390     \n",
      "_________________________________________________________________\n",
      "conv2d_2 (Conv2D)            (None, 1, 1, 270)         218970    \n",
      "_________________________________________________________________\n",
      "dropout_1 (Dropout)          (None, 1, 1, 270)         0         \n",
      "_________________________________________________________________\n",
      "flatten_1 (Flatten)          (None, 270)               0         \n",
      "_________________________________________________________________\n",
      "dense_1 (Dense)              (None, 180)               48780     \n",
      "_________________________________________________________________\n",
      "dropout_2 (Dropout)          (None, 180)               0         \n",
      "_________________________________________________________________\n",
      "dense_2 (Dense)              (None, 17)                3077      \n",
      "=================================================================\n",
      "Total params: 295,217\n",
      "Trainable params: 295,217\n",
      "Non-trainable params: 0\n",
      "_________________________________________________________________\n"
     ]
    }
   ],
   "source": [
    "model.summary()"
   ]
  },
  {
   "cell_type": "code",
   "execution_count": 24,
   "metadata": {},
   "outputs": [],
   "source": [
    "test_eval = model.evaluate(Xtest, ytest, verbose=0)"
   ]
  },
  {
   "cell_type": "code",
   "execution_count": 25,
   "metadata": {},
   "outputs": [
    {
     "name": "stdout",
     "output_type": "stream",
     "text": [
      "Test loss: 0.26318602220225706\n",
      "Test accuracy: 0.9376981610653139\n"
     ]
    }
   ],
   "source": [
    "print('Test loss:', test_eval[0])\n",
    "print('Test accuracy:', test_eval[1])"
   ]
  },
  {
   "cell_type": "code",
   "execution_count": 26,
   "metadata": {},
   "outputs": [
    {
     "name": "stdout",
     "output_type": "stream",
     "text": [
      "Train on 14717 samples, validate on 6308 samples\n",
      "Epoch 1/20\n",
      "14717/14717 [==============================] - 3s 174us/step - loss: 0.0320 - acc: 0.9908 - val_loss: 0.1709 - val_acc: 0.9627\n",
      "Epoch 2/20\n",
      "14717/14717 [==============================] - 2s 166us/step - loss: 0.0176 - acc: 0.9954 - val_loss: 0.1699 - val_acc: 0.9623\n",
      "Epoch 3/20\n",
      "14717/14717 [==============================] - 2s 164us/step - loss: 0.0108 - acc: 0.9965 - val_loss: 0.1839 - val_acc: 0.9631\n",
      "Epoch 4/20\n",
      "14717/14717 [==============================] - 2s 160us/step - loss: 0.0128 - acc: 0.9961 - val_loss: 0.2225 - val_acc: 0.9572\n",
      "Epoch 5/20\n",
      "14717/14717 [==============================] - 2s 153us/step - loss: 0.0173 - acc: 0.9943 - val_loss: 0.1888 - val_acc: 0.9639\n",
      "Epoch 6/20\n",
      "14717/14717 [==============================] - 2s 159us/step - loss: 0.0155 - acc: 0.9954 - val_loss: 0.1975 - val_acc: 0.9627\n",
      "Epoch 7/20\n",
      "14717/14717 [==============================] - 2s 167us/step - loss: 0.0169 - acc: 0.9952 - val_loss: 0.2197 - val_acc: 0.9581\n",
      "Epoch 8/20\n",
      "14717/14717 [==============================] - 2s 154us/step - loss: 0.0214 - acc: 0.9942 - val_loss: 0.2050 - val_acc: 0.9574\n",
      "Epoch 9/20\n",
      "14717/14717 [==============================] - 2s 156us/step - loss: 0.0265 - acc: 0.9937 - val_loss: 0.2247 - val_acc: 0.9534\n",
      "Epoch 10/20\n",
      "14717/14717 [==============================] - 2s 154us/step - loss: 0.0283 - acc: 0.9926 - val_loss: 0.2068 - val_acc: 0.9575\n",
      "Epoch 11/20\n",
      "14717/14717 [==============================] - 2s 153us/step - loss: 0.0278 - acc: 0.9906 - val_loss: 0.2247 - val_acc: 0.9543\n",
      "Epoch 12/20\n",
      "14717/14717 [==============================] - 2s 153us/step - loss: 0.0247 - acc: 0.9922 - val_loss: 0.2465 - val_acc: 0.9564\n",
      "Epoch 13/20\n",
      "14717/14717 [==============================] - 2s 155us/step - loss: 0.0312 - acc: 0.9914 - val_loss: 0.2158 - val_acc: 0.9559\n",
      "Epoch 14/20\n",
      "14717/14717 [==============================] - 2s 156us/step - loss: 0.0285 - acc: 0.9922 - val_loss: 0.2665 - val_acc: 0.9504\n",
      "Epoch 15/20\n",
      "14717/14717 [==============================] - 2s 154us/step - loss: 0.0317 - acc: 0.9922 - val_loss: 0.2469 - val_acc: 0.9558\n",
      "Epoch 16/20\n",
      "14717/14717 [==============================] - 2s 158us/step - loss: 0.0215 - acc: 0.9937 - val_loss: 0.1963 - val_acc: 0.9594\n",
      "Epoch 17/20\n",
      "14717/14717 [==============================] - 2s 152us/step - loss: 0.0282 - acc: 0.9919 - val_loss: 0.2259 - val_acc: 0.9591\n",
      "Epoch 18/20\n",
      "14717/14717 [==============================] - 3s 178us/step - loss: 0.0210 - acc: 0.9936 - val_loss: 0.2199 - val_acc: 0.9561\n",
      "Epoch 19/20\n",
      "14717/14717 [==============================] - 3s 180us/step - loss: 0.0175 - acc: 0.9955 - val_loss: 0.2195 - val_acc: 0.9605\n",
      "Epoch 20/20\n",
      "14717/14717 [==============================] - 2s 163us/step - loss: 0.0186 - acc: 0.9952 - val_loss: 0.2174 - val_acc: 0.9605\n"
     ]
    }
   ],
   "source": [
    "batch_size = 64\n",
    "epochs = 20\n",
    "model_train = model.fit(Xtrain, ytrain, batch_size=batch_size,epochs=epochs,verbose=1,validation_data=(Xtest, ytest))"
   ]
  },
  {
   "cell_type": "code",
   "execution_count": 27,
   "metadata": {},
   "outputs": [
    {
     "name": "stdout",
     "output_type": "stream",
     "text": [
      "[0.990758986206428, 0.9954474418150502, 0.9965346198274104, 0.9960589794115648, 0.9942923150098526, 0.9953794931032139, 0.9951756472107087, 0.9941564178291834, 0.993748726044173, 0.9925935992389754, 0.9905551403139227, 0.9921859075349658, 0.9913705238839438, 0.9921859074539648, 0.9921859075349658, 0.9937487259631719, 0.9919141129306245, 0.9936128287015017, 0.9955153903648841, 0.9952435958415438]\n"
     ]
    }
   ],
   "source": [
    "accuracy = model_train.history['acc']\n",
    "print(accuracy)"
   ]
  },
  {
   "cell_type": "code",
   "execution_count": 28,
   "metadata": {},
   "outputs": [
    {
     "data": {
      "image/png": "[encoded data removed]",
      "text/plain": [
       "<Figure size 432x288 with 1 Axes>"
      ]
     },
     "metadata": {},
     "output_type": "display_data"
    },
    {
     "data": {
      "image/png": "[encoded data removed]",
      "text/plain": [
       "<Figure size 432x288 with 1 Axes>"
      ]
     },
     "metadata": {},
     "output_type": "display_data"
    }
   ],
   "source": [
    "val_accuracy = model_train.history['val_acc']\n",
    "loss = model_train.history['loss']\n",
    "val_loss = model_train.history['val_loss']\n",
    "epochs = range(len(accuracy))\n",
    "plt.plot(epochs, accuracy, 'r', label='Training accuracy')\n",
    "plt.plot(epochs, val_accuracy, 'b', label='Testing accuracy')\n",
    "plt.title('Training and Testing accuracy')\n",
    "plt.legend()\n",
    "plt.figure()\n",
    "plt.plot(epochs, loss, 'r', label='Training loss')\n",
    "plt.plot(epochs, val_loss, 'b', label='Testing loss')\n",
    "plt.title('Training and validation loss')\n",
    "plt.legend()\n",
    "plt.show()"
   ]
  },
  {
   "cell_type": "code",
   "execution_count": null,
   "metadata": {},
   "outputs": [],
   "source": []
  },
  {
   "cell_type": "code",
   "execution_count": 29,
   "metadata": {},
   "outputs": [],
   "source": [
    "indianpines_colors = np.array([[255, 255, 255], [255, 254, 137], [3,  28,  241], [255, 89,    1], [5,   255, 133],\n",
    "                               [255,   2, 251], [89,  1,  255], [3,   171, 255], [12,  255,   7],\n",
    "                               [172, 175,  84], [160, 78, 158], [101, 173, 255], [60,   91, 112],\n",
    "                               [104, 192,  63], [139, 69,  46], [119, 255, 172], [254, 255,   3]])"
   ]
  },
  {
   "cell_type": "code",
   "execution_count": 30,
   "metadata": {},
   "outputs": [],
   "source": [
    "predicted_classes = model.predict(Xtest)"
   ]
  },
  {
   "cell_type": "code",
   "execution_count": 31,
   "metadata": {},
   "outputs": [
    {
     "name": "stdout",
     "output_type": "stream",
     "text": [
      "[[1.0000000e+00 1.3907606e-12 4.6486711e-18 ... 1.1169642e-12\n",
      "  4.5122906e-16 1.7059414e-18]\n",
      " [2.3772697e-09 4.9402576e-27 5.5602583e-23 ... 1.8680283e-19\n",
      "  1.2368246e-30 9.7785581e-25]\n",
      " [1.2115235e-06 2.7106126e-17 6.5624464e-11 ... 2.4011723e-13\n",
      "  3.0925011e-17 4.4757821e-14]\n",
      " ...\n",
      " [1.2247942e-10 2.0847477e-26 2.7893191e-10 ... 4.6006267e-21\n",
      "  1.2117202e-27 6.1016172e-26]\n",
      " [1.0000000e+00 1.2014338e-26 3.5977101e-35 ... 3.4668177e-29\n",
      "  1.0972458e-24 5.9499505e-29]\n",
      " [7.8030515e-17 2.1189299e-31 1.0000000e+00 ... 2.9738571e-21\n",
      "  1.6379461e-29 8.4920585e-19]]\n",
      "(6308, 17)\n"
     ]
    }
   ],
   "source": [
    "print(predicted_classes)\n",
    "print(predicted_classes.shape)"
   ]
  },
  {
   "cell_type": "code",
   "execution_count": 32,
   "metadata": {},
   "outputs": [],
   "source": [
    "predicted_classes = np.argmax(np.round(predicted_classes),axis=1)"
   ]
  },
  {
   "cell_type": "code",
   "execution_count": 33,
   "metadata": {},
   "outputs": [
    {
     "name": "stdout",
     "output_type": "stream",
     "text": [
      "[ 0 10 10 ... 11  0  2]\n"
     ]
    }
   ],
   "source": [
    "print(predicted_classes)"
   ]
  },
  {
   "cell_type": "code",
   "execution_count": 34,
   "metadata": {},
   "outputs": [
    {
     "name": "stdout",
     "output_type": "stream",
     "text": [
      "(6308,)\n",
      "(6308, 17)\n"
     ]
    }
   ],
   "source": [
    "print(predicted_classes.shape)\n",
    "print(ytest.shape)"
   ]
  },
  {
   "cell_type": "code",
   "execution_count": 35,
   "metadata": {},
   "outputs": [],
   "source": [
    "num_classes = ytest.shape[1]"
   ]
  },
  {
   "cell_type": "code",
   "execution_count": 36,
   "metadata": {},
   "outputs": [
    {
     "name": "stdout",
     "output_type": "stream",
     "text": [
      "             precision    recall  f1-score   support\n",
      "\n",
      "    Class 0       0.97      0.96      0.97      3233\n",
      "    Class 1       1.00      0.79      0.88        14\n",
      "    Class 2       0.97      0.95      0.96       428\n",
      "    Class 3       0.96      0.96      0.96       249\n",
      "    Class 4       0.91      0.97      0.94        71\n",
      "    Class 5       0.95      0.97      0.96       145\n",
      "    Class 6       0.95      0.97      0.96       219\n",
      "    Class 7       0.89      1.00      0.94         8\n",
      "    Class 8       1.00      0.98      0.99       143\n",
      "    Class 9       1.00      1.00      1.00         6\n",
      "   Class 10       0.94      0.96      0.95       292\n",
      "   Class 11       0.97      0.96      0.97       737\n",
      "   Class 12       0.92      0.93      0.92       178\n",
      "   Class 13       0.98      0.97      0.98        61\n",
      "   Class 14       0.94      0.97      0.96       380\n",
      "   Class 15       0.90      0.86      0.88       116\n",
      "   Class 16       0.82      0.96      0.89        28\n",
      "\n",
      "avg / total       0.96      0.96      0.96      6308\n",
      "\n"
     ]
    }
   ],
   "source": [
    "from sklearn.metrics import classification_report\n",
    "target_names = [\"Class {}\".format(i) for i in range(num_classes)]\n",
    "print(classification_report(saveytest, predicted_classes, target_names=target_names))"
   ]
  },
  {
   "cell_type": "code",
   "execution_count": 37,
   "metadata": {},
   "outputs": [],
   "source": [
    "from sklearn.metrics import confusion_matrix\n",
    "cm = confusion_matrix(saveytest, predicted_classes)"
   ]
  },
  {
   "cell_type": "code",
   "execution_count": 38,
   "metadata": {},
   "outputs": [
    {
     "name": "stdout",
     "output_type": "stream",
     "text": [
      "[[3114    0   11    4    1    7   11    1    0    0   11   18   14    1\n",
      "    23   11    6]\n",
      " [   3   11    0    0    0    0    0    0    0    0    0    0    0    0\n",
      "     0    0    0]\n",
      " [   9    0  405    7    6    0    0    0    0    0    0    1    0    0\n",
      "     0    0    0]\n",
      " [   9    0    0  239    0    0    0    0    0    0    0    1    0    0\n",
      "     0    0    0]\n",
      " [   2    0    0    0   69    0    0    0    0    0    0    0    0    0\n",
      "     0    0    0]\n",
      " [   5    0    0    0    0  140    0    0    0    0    0    0    0    0\n",
      "     0    0    0]\n",
      " [   6    0    0    0    0    0  213    0    0    0    0    0    0    0\n",
      "     0    0    0]\n",
      " [   0    0    0    0    0    0    0    8    0    0    0    0    0    0\n",
      "     0    0    0]\n",
      " [   3    0    0    0    0    0    0    0  140    0    0    0    0    0\n",
      "     0    0    0]\n",
      " [   0    0    0    0    0    0    0    0    0    6    0    0    0    0\n",
      "     0    0    0]\n",
      " [  10    0    0    0    0    0    0    0    0    0  281    0    1    0\n",
      "     0    0    0]\n",
      " [  20    0    1    0    0    0    0    0    0    0    6  710    0    0\n",
      "     0    0    0]\n",
      " [   9    0    1    0    0    0    0    0    0    0    2    0  166    0\n",
      "     0    0    0]\n",
      " [   2    0    0    0    0    0    0    0    0    0    0    0    0   59\n",
      "     0    0    0]\n",
      " [  10    0    0    0    0    0    0    0    0    0    0    0    0    0\n",
      "   370    0    0]\n",
      " [  16    0    0    0    0    0    0    0    0    0    0    0    0    0\n",
      "     0  100    0]\n",
      " [   1    0    0    0    0    0    0    0    0    0    0    0    0    0\n",
      "     0    0   27]]\n"
     ]
    }
   ],
   "source": [
    "print(cm)"
   ]
  },
  {
   "cell_type": "code",
   "execution_count": 39,
   "metadata": {},
   "outputs": [],
   "source": [
    "indianpines_class_names = ['background', 'alfalfa','corn-notill','corn-min', 'corn','grass/pasture', 'grass/trees', \n",
    "                           'grass/pasture-mowed',  'hay-windrowed', 'oats', 'soybeans-notill',  'soybeans-min', 'soybean-clean',\n",
    "                           'wheat', 'woods', 'bldg-grass-tree-drives', 'stone-steel towers']"
   ]
  },
  {
   "cell_type": "code",
   "execution_count": 40,
   "metadata": {},
   "outputs": [
    {
     "data": {
      "image/png": "[encoded data removed]",
      "text/plain": [
       "<Figure size 864x864 with 2 Axes>"
      ]
     },
     "metadata": {},
     "output_type": "display_data"
    }
   ],
   "source": [
    "\n",
    "\n",
    "# Visualizing the results\n",
    "import itertools\n",
    "def plot_confusion_matrix(cm, classes,\n",
    "                          normalize=False,\n",
    "                          title='Confusion matrix',\n",
    "                          cmap=plt.cm.Blues):\n",
    "    \"\"\"\n",
    "    This function prints and plots the confusion matrix.\n",
    "    Normalization can be applied by setting `normalize=True`.\n",
    "    \"\"\"\n",
    "    if normalize:\n",
    "        cm = cm.astype('float') / cm.sum(axis=1)[:, np.newaxis]\n",
    "\n",
    "    plt.imshow(cm, interpolation='nearest', cmap=cmap)\n",
    "    plt.title(title)\n",
    "    plt.colorbar()\n",
    "    tick_marks = np.arange(len(classes))\n",
    "    plt.xticks(tick_marks, classes, rotation=45)\n",
    "    plt.yticks(tick_marks, classes)\n",
    "\n",
    "    fmt = '.2f' if normalize else 'd'\n",
    "    thresh = cm.max() / 2.\n",
    "    for i, j in itertools.product(range(cm.shape[0]), range(cm.shape[1])):\n",
    "        plt.text(j, i, format(cm[i, j], fmt),\n",
    "                 horizontalalignment=\"center\",\n",
    "                 color=\"white\" if cm[i, j] > thresh else \"black\")\n",
    "\n",
    "    plt.tight_layout()\n",
    "    plt.ylabel('True label')\n",
    "    plt.xlabel('Predicted label')\n",
    "\n",
    "\n",
    "# Plot normalized confusion matrix\n",
    "plt.figure(figsize=(12, 12))\n",
    "plot_confusion_matrix(cm, classes=indianpines_class_names, normalize=True, title='Normalized confusion matrix')\n",
    "plt.show()"
   ]
  },
  {
   "cell_type": "code",
   "execution_count": 41,
   "metadata": {},
   "outputs": [
    {
     "name": "stderr",
     "output_type": "stream",
     "text": [
      "C:\\Users\\slowg\\Anaconda3\\lib\\site-packages\\sklearn\\utils\\validation.py:475: DataConversionWarning: Data with input dtype int64 was converted to float64 by StandardScaler.\n",
      "  warnings.warn(msg, DataConversionWarning)\n"
     ]
    }
   ],
   "source": [
    "from sklearn.preprocessing import StandardScaler\n",
    "sc = StandardScaler()\n",
    "pixels = sc.fit_transform(pixels)"
   ]
  },
  {
   "cell_type": "code",
   "execution_count": 42,
   "metadata": {},
   "outputs": [
    {
     "name": "stderr",
     "output_type": "stream",
     "text": [
      "C:\\Users\\slowg\\Anaconda3\\lib\\site-packages\\sklearn\\utils\\validation.py:475: DataConversionWarning: Data with input dtype int32 was converted to float64.\n",
      "  warnings.warn(msg, DataConversionWarning)\n"
     ]
    }
   ],
   "source": [
    "import sklearn.preprocessing\n",
    "indianpines_colors = sklearn.preprocessing.minmax_scale(indianpines_colors, feature_range=(0, 1))\n",
    "pixels_normalized = sklearn.preprocessing.minmax_scale(pixels, feature_range=(0, 1))"
   ]
  },
  {
   "cell_type": "code",
   "execution_count": 43,
   "metadata": {},
   "outputs": [],
   "source": [
    "number_of_rows=145\n",
    "number_of_columns=145"
   ]
  },
  {
   "cell_type": "code",
   "execution_count": 44,
   "metadata": {},
   "outputs": [
    {
     "name": "stdout",
     "output_type": "stream",
     "text": [
      "(21025,)\n"
     ]
    }
   ],
   "source": [
    "print(gt.shape)"
   ]
  },
  {
   "cell_type": "code",
   "execution_count": 45,
   "metadata": {},
   "outputs": [],
   "source": [
    "gt= gt.reshape((-1, 1))"
   ]
  },
  {
   "cell_type": "code",
   "execution_count": 46,
   "metadata": {},
   "outputs": [
    {
     "name": "stdout",
     "output_type": "stream",
     "text": [
      "(21025, 1)\n"
     ]
    }
   ],
   "source": [
    "print(gt.shape)"
   ]
  },
  {
   "cell_type": "code",
   "execution_count": 47,
   "metadata": {},
   "outputs": [],
   "source": [
    "gt_thematic_map = np.zeros(shape=(number_of_rows, number_of_columns, 3))\n",
    "rgb_hyperspectral_image = np.zeros(shape=(number_of_rows, number_of_columns, 3))\n",
    "cont = 0\n",
    "for i in range(number_of_rows):\n",
    "    for j in range(number_of_columns):\n",
    "        rgb_hyperspectral_image[i, j, 0] = pixels_normalized[cont, 29]\n",
    "        rgb_hyperspectral_image[i, j, 1] = pixels_normalized[cont, 42]\n",
    "        rgb_hyperspectral_image[i, j, 2] = pixels_normalized[cont, 89]\n",
    "        gt_thematic_map[i, j, :] = indianpines_colors[gt[cont, 0]]\n",
    "        cont += 1\n"
   ]
  },
  {
   "cell_type": "code",
   "execution_count": 48,
   "metadata": {},
   "outputs": [
    {
     "data": {
      "text/plain": [
       "<matplotlib.image.AxesImage at 0x1ef9972d080>"
      ]
     },
     "execution_count": 48,
     "metadata": {},
     "output_type": "execute_result"
    },
    {
     "data": {
      "image/png": "[encoded data removed]",
      "text/plain": [
       "<Figure size 720x720 with 2 Axes>"
      ]
     },
     "metadata": {},
     "output_type": "display_data"
    }
   ],
   "source": [
    "fig = plt.figure(figsize=(10, 10))\n",
    "columns = 2\n",
    "rows = 1\n",
    "fig.add_subplot(rows, columns, 1)\n",
    "plt.title(' Reference data')\n",
    "\n",
    "plt.imshow(gt_thematic_map)\n",
    "fig.add_subplot(rows, columns, 2)\n",
    "plt.title('input image')\n",
    "\n",
    "plt.imshow(rgb_hyperspectral_image)"
   ]
  },
  {
   "cell_type": "code",
   "execution_count": 49,
   "metadata": {},
   "outputs": [
    {
     "name": "stdout",
     "output_type": "stream",
     "text": [
      "[ 0 10 10 ... 11  0  2]\n"
     ]
    },
    {
     "data": {
      "text/plain": [
       "(6308,)"
      ]
     },
     "execution_count": 49,
     "metadata": {},
     "output_type": "execute_result"
    }
   ],
   "source": [
    "print(predicted_classes)\n",
    "predicted_classes.shape"
   ]
  },
  {
   "cell_type": "code",
   "execution_count": 50,
   "metadata": {},
   "outputs": [
    {
     "name": "stdout",
     "output_type": "stream",
     "text": [
      "[3 3 3 ... 0 0 0]\n",
      "(21025,)\n"
     ]
    }
   ],
   "source": [
    "pdc=model.predict_classes(X)\n",
    "print(pdc)\n",
    "print(pdc.shape)"
   ]
  },
  {
   "cell_type": "code",
   "execution_count": 51,
   "metadata": {},
   "outputs": [
    {
     "name": "stdout",
     "output_type": "stream",
     "text": [
      "svm\n"
     ]
    },
    {
     "data": {
      "image/png": "[encoded data removed]",
      "text/plain": [
       "<Figure size 1080x1080 with 2 Axes>"
      ]
     },
     "metadata": {},
     "output_type": "display_data"
    }
   ],
   "source": [
    "\n",
    "predicted_thematic_map = np.zeros(shape=(number_of_rows, number_of_columns, 3))\n",
    "predicted_dataset =pdc\n",
    "\n",
    "cont = 0\n",
    "for i in range(number_of_rows):\n",
    "    for j in range(number_of_columns):\n",
    "        gt_thematic_map[i, j, :] = indianpines_colors[gt[cont, 0]]\n",
    "        predicted_thematic_map[i, j, :] = indianpines_colors[predicted_dataset[cont]]\n",
    "        cont += 1\n",
    "\n",
    "fig = plt.figure(figsize=(15, 15))\n",
    "columns = 2\n",
    "rows = 1\n",
    "fig.add_subplot(rows, columns, 1)\n",
    "plt.title('ground truth ')\n",
    "\n",
    "plt.imshow(gt_thematic_map)\n",
    "print('svm')\n",
    "fig.add_subplot(rows, columns, 2)\n",
    "plt.title(' predicted_thematic_map by CNN ')\n",
    "\n",
    "plt.imshow(predicted_thematic_map)\n",
    "plt.show()"
   ]
  },
  {
   "cell_type": "code",
   "execution_count": null,
   "metadata": {},
   "outputs": [],
   "source": []
  }
 ],
 "metadata": {
  "kernelspec": {
   "display_name": "Python 3",
   "language": "python",
   "name": "python3"
  },
  "language_info": {
   "codemirror_mode": {
    "name": "ipython",
    "version": 3
   },
   "file_extension": ".py",
   "mimetype": "text/x-python",
   "name": "python",
   "nbconvert_exporter": "python",
   "pygments_lexer": "ipython3",
   "version": "3.6.4"
  }
 },
 "nbformat": 4,
 "nbformat_minor": 2
}
